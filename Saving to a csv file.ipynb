{
 "cells": [
  {
   "cell_type": "markdown",
   "metadata": {},
   "source": [
    "# Save results to csv file"
   ]
  },
  {
   "cell_type": "code",
   "execution_count": 1,
   "metadata": {
    "collapsed": true
   },
   "outputs": [],
   "source": [
    "import glob, os\n",
    "from obspy import read, Trace, Stream\n",
    "import numpy as np\n",
    "import math as M\n",
    "import pandas as pd"
   ]
  },
  {
   "cell_type": "markdown",
   "metadata": {},
   "source": [
    "### Get list of the folders"
   ]
  },
  {
   "cell_type": "code",
   "execution_count": 2,
   "metadata": {
    "collapsed": true
   },
   "outputs": [],
   "source": [
    "cwd = os.getcwd()"
   ]
  },
  {
   "cell_type": "code",
   "execution_count": 3,
   "metadata": {
    "collapsed": true
   },
   "outputs": [],
   "source": [
    "dirs = [ name for name in os.listdir(os.getcwd()) if os.path.isdir(os.path.join(os.getcwd(), name)) ]"
   ]
  },
  {
   "cell_type": "markdown",
   "metadata": {},
   "source": [
    "### Remove unnecessary folder"
   ]
  },
  {
   "cell_type": "code",
   "execution_count": 4,
   "metadata": {
    "collapsed": true
   },
   "outputs": [],
   "source": [
    "dirs.remove('.ipynb_checkpoints')"
   ]
  },
  {
   "cell_type": "markdown",
   "metadata": {},
   "source": [
    "### Get the list of the files inside in a folder"
   ]
  },
  {
   "cell_type": "code",
   "execution_count": 5,
   "metadata": {
    "collapsed": true
   },
   "outputs": [],
   "source": [
    "sacs = glob.glob(dirs[0] + '/*')"
   ]
  },
  {
   "cell_type": "markdown",
   "metadata": {},
   "source": [
    "# Create empty database"
   ]
  },
  {
   "cell_type": "code",
   "execution_count": 6,
   "metadata": {
    "collapsed": true
   },
   "outputs": [],
   "source": [
    "keys = ['starttime','endtime','network','station','channel','PGA','PGA Position','PGV','PGV Position','Mw','Distance']\n",
    "database = {key: [] for key in keys}"
   ]
  },
  {
   "cell_type": "markdown",
   "metadata": {},
   "source": [
    "## Make a function to detect the position and the value of the maximum element in an numpy array"
   ]
  },
  {
   "cell_type": "code",
   "execution_count": 7,
   "metadata": {
    "collapsed": true
   },
   "outputs": [],
   "source": [
    "def max_pos_finder(data):\n",
    "  if abs(data.min()) > data.max():\n",
    "    max_val = max(data.min(), data.max(), key=abs)\n",
    "    max_pos = np.where(data == max_val)\n",
    "    max_pos= max_pos[0]\n",
    "  else:\n",
    "      max_val = data.max()\n",
    "      max_pos = np.where(data == max_val)\n",
    "      max_pos = max_pos[0]     \n",
    "  return max_val, max_pos[0]"
   ]
  },
  {
   "cell_type": "markdown",
   "metadata": {},
   "source": [
    "## Read all sac files "
   ]
  },
  {
   "cell_type": "code",
   "execution_count": 8,
   "metadata": {
    "collapsed": true
   },
   "outputs": [],
   "source": [
    "st_org = Stream()\n",
    "for sac in sacs:\n",
    "    st_org += read(sac,format='SAC')"
   ]
  },
  {
   "cell_type": "code",
   "execution_count": 9,
   "metadata": {},
   "outputs": [],
   "source": [
    "for tr in st_org:\n",
    "    database['starttime'].append(tr.stats.starttime)\n",
    "    database['endtime'].append(tr.stats.endtime)\n",
    "    database['network'].append(tr.stats.network)\n",
    "    database['station'].append(tr.stats.station)\n",
    "    database['channel'].append(tr.stats.channel)\n",
    "    database['Mw'].append(tr.stats.sac.mag)\n",
    "    database['Distance'].append(tr.stats.sac.dist)\n",
    "    PGA, PGA_pos = max_pos_finder(tr.data)\n",
    "    database['PGA'].append(PGA)\n",
    "    database['PGA Position'].append(PGA_pos*tr.stats.delta)\n",
    "    tr_vel = tr.copy()\n",
    "    tr_vel.filter('highpass',freq = 0.05)\n",
    "    tr_vel.detrend(\"demean\")\n",
    "    tr_vel.detrend(\"linear\")\n",
    "    tr_vel.integrate(method='cumtrapz')\n",
    "    tr_vel.detrend(\"demean\")\n",
    "    tr_vel.detrend(\"linear\")\n",
    "    PGV, PGV_pos = max_pos_finder(tr_vel.data)\n",
    "    database['PGV'].append(PGV)\n",
    "    database['PGV Position'].append(PGV_pos*tr.stats.delta)"
   ]
  },
  {
   "cell_type": "code",
   "execution_count": 10,
   "metadata": {},
   "outputs": [],
   "source": [
    "df = pd.DataFrame.from_dict(database)\n",
    "df.to_csv('/home/dertuncay/Obspy_Tutorial/database.csv',',',header=True,index=False)"
   ]
  }
 ],
 "metadata": {
  "kernelspec": {
   "display_name": "Python 2",
   "language": "python",
   "name": "python2"
  },
  "language_info": {
   "codemirror_mode": {
    "name": "ipython",
    "version": 2
   },
   "file_extension": ".py",
   "mimetype": "text/x-python",
   "name": "python",
   "nbconvert_exporter": "python",
   "pygments_lexer": "ipython2",
   "version": "2.7.14"
  }
 },
 "nbformat": 4,
 "nbformat_minor": 2
}
